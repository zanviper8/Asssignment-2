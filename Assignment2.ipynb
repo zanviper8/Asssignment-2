{
 "cells": [
  {
   "cell_type": "code",
   "execution_count": null,
   "id": "87213aad-3640-4bc7-a3a6-411c6a2c7d36",
   "metadata": {},
   "outputs": [],
   "source": [
    "Q1. How do you comment code in Python? What are the different types of comments?\n",
    "#Answer Below\n",
    "\n",
    "In Python, you can add comments to your code to provide explanations, documentations, or to temporarily disable certain lines of code.\n",
    "There are two types of comments in Python: \n",
    "Single-line comments: These comments are used to document or explain a single line of code. \n",
    "In Python, you can create a single-line comment by using the hash symbol (#) at the beginning of the line. \n",
    "Anything written after the hash symbol on the same line will be treated as a comment and will be ignored by the Python interpreter.\n",
    "\n",
    "Multi-line comments: These comments are used to span across multiple lines or to comment out a block of code. \n",
    "In Python, you can create multi-line comments by enclosing the text within triple quotes, either single quotes (''') or double quotes (\"\"\"). "
   ]
  },
  {
   "cell_type": "code",
   "execution_count": null,
   "id": "763ce60b-209e-45c1-8671-91736b2f9c41",
   "metadata": {},
   "outputs": [],
   "source": [
    "Q2. What are variables in Python? How do you declare and assign values to variables?\n",
    "#Answer Below\n",
    "\n",
    "In Python, variables are used to store data or values that can be referenced and manipulated throughout the program. \n",
    "Variables act as containers for holding different types of data, such as numbers, strings, lists, or more complex objects.\n",
    "To declare and assign values to variables in Python, you follow a simple syntax:\n",
    "    variable_name = value\n"
   ]
  },
  {
   "cell_type": "code",
   "execution_count": null,
   "id": "68dd0ec2-2a48-4cea-8f06-f4ba117089b4",
   "metadata": {},
   "outputs": [],
   "source": [
    "Q3. How do you convert one data type to another in Python?\n",
    "#Answer Below\n",
    "\n",
    "In Python, you can convert one data type to another using type conversion functions or by utilizing the built-in constructors for the desired data type. \n",
    "Here are some common ways to perform type conversion in Python:\n",
    "    \n",
    "Explicit Type Conversion (Type Casting): You can explicitly convert one data type to another using the provided type conversion functions or constructors. \n",
    "Here are some commonly used functions for explicit type conversion:\n",
    "int(): Converts the value to an integer.\n",
    "float(): Converts the value to a floating-point number.\n",
    "str(): Converts the value to a string.\n",
    "list(): Converts the value to a list.\n",
    "tuple(): Converts the value to a tuple."
   ]
  },
  {
   "cell_type": "code",
   "execution_count": null,
   "id": "17d0b886-e2b1-4c62-b443-bd01d5b1acd9",
   "metadata": {},
   "outputs": [],
   "source": [
    "Q4. How do you write and execute a Python script from the command line?\n",
    "#Answer Below\n",
    "\n",
    "To write and execute a Python script from the command line, you can follow these steps:\n",
    "Open a text editor and create a new file. Enter your Python code in the file, save it with a .py extension, and choose a meaningful name for your script. \n",
    "For example, you could create a file called my_script.py and open it in a text editor.\n",
    "\n",
    "Write your Python code in the file. For example, you could start with a simple \"Hello, World!\" program:\n",
    "\n",
    "    print(\"Hello, World!\")\n",
    "Save the file and execute after writing your code.\n",
    "\n"
   ]
  },
  {
   "cell_type": "code",
   "execution_count": 3,
   "id": "9eb6ff96-1251-4df4-8388-3f15a55e549d",
   "metadata": {},
   "outputs": [
    {
     "name": "stdout",
     "output_type": "stream",
     "text": [
      "[2, 3]\n"
     ]
    }
   ],
   "source": [
    "'''Q5. Given a list my_list = [1, 2, 3, 4, 5], write the code to slice the list and obtain the sub-list [2, 3].'''\n",
    "#Answer Below\n",
    "\n",
    "my_list = [1, 2, 3, 4, 5]\n",
    "sub_list = my_list[1:3]\n",
    "print(sub_list)"
   ]
  },
  {
   "cell_type": "code",
   "execution_count": null,
   "id": "221ed39e-b8c1-4b88-88ad-53b5ce9ae95a",
   "metadata": {},
   "outputs": [],
   "source": [
    "Q6. What is a complex number in mathematics, and how is it represented in Python?\n",
    "#Answer Below\n",
    "\n",
    "In mathematics, a complex number is a number that comprises a real part and an imaginary part. \n",
    "It is represented as a + bj, where a is the real part, b is the imaginary part, and j is the imaginary unit, which satisfies the property j^2 = -1.\n",
    "\n",
    "In Python, complex numbers are represented by using the j or J suffix to denote the imaginary part. For example:\n",
    "    z = 2 + 3j\n",
    "    print(z)  # Output: (2+3j)\n"
   ]
  },
  {
   "cell_type": "code",
   "execution_count": null,
   "id": "2daf57aa-0958-45c4-8e93-524c6847e047",
   "metadata": {},
   "outputs": [],
   "source": [
    "Q7. What is the correct way to declare a variable named age and assign the value 25 to it?\n",
    "#Answer Below\n",
    "\n",
    "To declare a variable named age and assign the value 25 to it, you can use the following code:\n",
    "    age = 25"
   ]
  },
  {
   "cell_type": "code",
   "execution_count": null,
   "id": "0a856ce0-10c8-48d1-b480-44d94ddfe6cd",
   "metadata": {},
   "outputs": [],
   "source": [
    "'''Q8. Declare a variable named price and assign the value 9.99 to it. What data type does this variable\n",
    "belong to?'''\n",
    "#Answer Below\n",
    "\n",
    "price = 9.99\n",
    "\n",
    "When you declare a variable named price and assign the value 9.99 to it, the data type of this variable is a floating-point number (float). \n",
    "The value 9.99 is a decimal number, so it is automatically assigned the float data type in Python."
   ]
  },
  {
   "cell_type": "code",
   "execution_count": 8,
   "id": "e7b4b26e-cd21-4f6a-9fee-af393e69c79d",
   "metadata": {},
   "outputs": [
    {
     "name": "stdout",
     "output_type": "stream",
     "text": [
      "Shyam Das\n"
     ]
    }
   ],
   "source": [
    "'''Q9. Create a variable named name and assign your full name to it as a string. How would you print the\n",
    "value of this variable?'''\n",
    " \n",
    "name = 'Shyam Das'\n",
    "print(name)"
   ]
  },
  {
   "cell_type": "code",
   "execution_count": 9,
   "id": "4e4a1a1e-46f3-4f15-b6a4-690128774427",
   "metadata": {},
   "outputs": [
    {
     "name": "stdout",
     "output_type": "stream",
     "text": [
      "World\n"
     ]
    }
   ],
   "source": [
    "#Q10. Given the string \"Hello, World!\", extract the substring \"World\".\n",
    "#Answer Below\n",
    "\n",
    "string = \"Hello, World!\"\n",
    "substring = string[7:12]\n",
    "print(substring)\n"
   ]
  },
  {
   "cell_type": "code",
   "execution_count": null,
   "id": "a9132ef0-cf95-4a89-899a-589e66196f5d",
   "metadata": {},
   "outputs": [],
   "source": [
    "'''Q11. Create a variable named \"is_student\" and assign it a boolean value indicating whether you are\n",
    "currently a student or not.'''\n",
    "#Answer Below\n",
    "\n"
   ]
  }
 ],
 "metadata": {
  "kernelspec": {
   "display_name": "Python 3 (ipykernel)",
   "language": "python",
   "name": "python3"
  },
  "language_info": {
   "codemirror_mode": {
    "name": "ipython",
    "version": 3
   },
   "file_extension": ".py",
   "mimetype": "text/x-python",
   "name": "python",
   "nbconvert_exporter": "python",
   "pygments_lexer": "ipython3",
   "version": "3.10.8"
  }
 },
 "nbformat": 4,
 "nbformat_minor": 5
}
